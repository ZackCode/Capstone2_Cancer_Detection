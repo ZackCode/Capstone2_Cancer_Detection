{
 "cells": [
  {
   "cell_type": "markdown",
   "metadata": {},
   "source": [
    "new_third"
   ]
  },
  {
   "cell_type": "code",
   "execution_count": null,
   "metadata": {
    "collapsed": true
   },
   "outputs": [],
   "source": [
    "def conv3d(x, W):\n",
    "    return tf.nn.conv3d(x, W, strides=[1,1,1,1,1], padding='SAME')\n",
    "\n",
    "def maxpool3d(x):\n",
    "    #                        size of window         movement of window as you slide about\n",
    "    return tf.nn.max_pool3d(x, ksize=[1,2,2,2,1], strides=[1,2,2,2,1], padding='SAME')\n",
    "\n",
    "def convolutional_neural_network(x):\n",
    "    #                # 5 x 5 x 5 patches, 1 channel, 32 features to compute.\n",
    "    weights = {'W_conv1':tf.Variable(tf.random_normal([3,3,3,1,128])), # was 32, 64\n",
    "               #       5 x 5 x 5 patches, 32 channels, 64 features to compute.\n",
    "               'W_conv2':tf.Variable(tf.random_normal([3,3,3,128,64])),\n",
    "               #                                  64 features\n",
    "               'W_conv3':tf.Variable(tf.random_normal([3,3,3,64,32])),\n",
    "               #                                  64 features\n",
    "               'W_fc':tf.Variable(tf.random_normal([4704,1024])),\n",
    "               'W_fc2':tf.Variable(tf.random_normal([1024,1024])),\n",
    "               'W_fc3':tf.Variable(tf.random_normal([1024,1024])),# was 54080, 1024\n",
    "               'out':tf.Variable(tf.random_normal([1024, n_classes]))} # was 1024\n",
    "\n",
    "    biases = {'b_conv1':tf.Variable(tf.random_normal([128])),\n",
    "               'b_conv2':tf.Variable(tf.random_normal([64])),\n",
    "               'b_conv3':tf.Variable(tf.random_normal([32])),\n",
    "               'b_fc':tf.Variable(tf.random_normal([1024])),\n",
    "              'b_fc2':tf.Variable(tf.random_normal([1024])),\n",
    "              'b_fc3':tf.Variable(tf.random_normal([1024])),# was 16\n",
    "               'out':tf.Variable(tf.random_normal([n_classes]))}\n",
    "\n",
    "    #                            image X      image Y        image Z\n",
    "    x = tf.reshape(x, shape=[-1, IMG_SIZE_PX, IMG_SIZE_PX, SLICE_COUNT, 1])\n",
    "\n",
    "    conv1 = tf.nn.relu(conv3d(x, weights['W_conv1']) + biases['b_conv1'])\n",
    "    conv1 = maxpool3d(conv1)\n",
    "\n",
    "\n",
    "    conv2 = tf.nn.relu(conv3d(conv1, weights['W_conv2']) + biases['b_conv2'])\n",
    "    conv2 = maxpool3d(conv2)\n",
    "    \n",
    "    conv3 = tf.nn.relu(conv3d(conv2, weights['W_conv3']) + biases['b_conv3'])\n",
    "    conv3 = maxpool3d(conv3)\n",
    "    print(conv3.get_shape)\n",
    "    fc = tf.reshape(conv3,[-1, 4704])# was 54080\n",
    "    fc = tf.nn.relu(tf.matmul(fc, weights['W_fc'])+biases['b_fc'])\n",
    "    fc = tf.nn.relu(tf.matmul(fc, weights['W_fc2'])+biases['b_fc2'])\n",
    "    fc = tf.nn.relu(tf.matmul(fc, weights['W_fc3'])+biases['b_fc3'])\n",
    "    fc = tf.nn.dropout(fc, keep_rate)\n",
    "\n",
    "    output = tf.matmul(fc, weights['out'])+biases['out']\n",
    "\n",
    "    return output\n"
   ]
  }
 ],
 "metadata": {
  "kernelspec": {
   "display_name": "Python 2",
   "language": "python",
   "name": "python2"
  },
  "language_info": {
   "codemirror_mode": {
    "name": "ipython",
    "version": 2
   },
   "file_extension": ".py",
   "mimetype": "text/x-python",
   "name": "python",
   "nbconvert_exporter": "python",
   "pygments_lexer": "ipython2",
   "version": "2.7.13"
  }
 },
 "nbformat": 4,
 "nbformat_minor": 2
}
